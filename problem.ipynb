{
 "cells": [
  {
   "cell_type": "markdown",
   "metadata": {},
   "source": [
    "# Scopping\n",
    "\n",
    "## Problems\n",
    "\n",
    "Credit Card Fraud Detection\n",
    "https://www.kaggle.com/mlg-ulb/creditcardfraud:\n",
    "problem: recognize fraudulent credit card transactions\n",
    " * classification\n",
    "\n",
    "New York City Taxi Fare Prediction\n",
    "https://www.kaggle.com/c/new-york-city-taxi-fare-prediction/:\n",
    "problem: predicting the fare amount (inclusive of tolls) for a taxi ride in New York City given the pickup and dropoff locations.\n",
    " * time series regression\n",
    "\n",
    "Santander Customer Transaction Prediction\n",
    "https://www.kaggle.com/c/santander-customer-transaction-prediction:\n",
    "problem: customers will make a specific transaction in the future\n",
    " * classification binary\n",
    "\n",
    " Eu escolhi o desafio Santander Customer Transaction Prediction, achei os dados um poucos diferente, não sei a nomeclatura correta, mas achei um desafio diferente, e como o objetivo principal deste teste não está relacionado com a modelagem do modelo, vou usar esse desafio para aprender. \n",
    "\n",
    "## Database\n",
    "\n",
    "o objetivo é ___\n",
    "\n",
    "Variáveis de Input:\n",
    " * \n",
    "\n",
    "Variáveis de Output:\n",
    " * \n",
    "\n",
    "## Solução\n",
    "\n",
    "Já que tratamos de uma classificação binaria, vou implementar uma arvore de decisao com a biblioteca xgboost.\n",
    "Realizar uma analise exploratoria dos dados para verificar se há alguma anomalia nos dados.\n",
    "E analizar as features aplicando alguma tecnica que faz sentido para o modelo\n",
    "\n",
    "O objetivo é ________\n",
    "\n",
    "## Milestone\n",
    "\n",
    " * EDA\n",
    " * Modelo\n",
    " * Mlflow\n",
    " * Features analise\n",
    " * Análise dos resultos\n",
    " * Docker\n",
    " * Github Actions?"
   ]
  },
  {
   "cell_type": "markdown",
   "metadata": {},
   "source": [
    "# Data"
   ]
  },
  {
   "cell_type": "code",
   "execution_count": null,
   "metadata": {},
   "outputs": [],
   "source": []
  }
 ],
 "metadata": {
  "kernelspec": {
   "display_name": "Python 3.9.12 ('base')",
   "language": "python",
   "name": "python3"
  },
  "language_info": {
   "name": "python",
   "version": "3.9.12"
  },
  "orig_nbformat": 4,
  "vscode": {
   "interpreter": {
    "hash": "b2c5cf58c51b811bee542e8edde39347438cc33ae72e20bd12d9c275fd1d501e"
   }
  }
 },
 "nbformat": 4,
 "nbformat_minor": 2
}
